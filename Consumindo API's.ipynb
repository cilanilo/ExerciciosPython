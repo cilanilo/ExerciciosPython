{
 "cells": [
  {
   "cell_type": "code",
   "execution_count": 9,
   "metadata": {},
   "outputs": [],
   "source": [
    "import requests\n",
    "import json"
   ]
  },
  {
   "cell_type": "code",
   "execution_count": 10,
   "metadata": {},
   "outputs": [],
   "source": [
    "cotacoes = requests.get(\"https://economia.awesomeapi.com.br/last/USD-BRL,EUR-BRL,BTC-BRL\")"
   ]
  },
  {
   "cell_type": "code",
   "execution_count": 11,
   "metadata": {},
   "outputs": [
    {
     "name": "stdout",
     "output_type": "stream",
     "text": [
      "<Response [200]>\n"
     ]
    }
   ],
   "source": [
    "print(cotacoes)"
   ]
  },
  {
   "cell_type": "code",
   "execution_count": 12,
   "metadata": {},
   "outputs": [],
   "source": [
    "cotacoes = cotacoes.json()"
   ]
  },
  {
   "cell_type": "code",
   "execution_count": 13,
   "metadata": {},
   "outputs": [
    {
     "data": {
      "text/plain": [
       "{'USDBRL': {'code': 'USD',\n",
       "  'codein': 'BRL',\n",
       "  'name': 'Dólar Americano/Real Brasileiro',\n",
       "  'high': '5.0368',\n",
       "  'low': '4.9923',\n",
       "  'varBid': '-0.0095',\n",
       "  'pctChange': '-0.19',\n",
       "  'bid': '5',\n",
       "  'ask': '5.0005',\n",
       "  'timestamp': '1683641883',\n",
       "  'create_date': '2023-05-09 11:18:03'},\n",
       " 'EURBRL': {'code': 'EUR',\n",
       "  'codein': 'BRL',\n",
       "  'name': 'Euro/Real Brasileiro',\n",
       "  'high': '5.5176',\n",
       "  'low': '5.4725',\n",
       "  'varBid': '-0.0324',\n",
       "  'pctChange': '-0.59',\n",
       "  'bid': '5.479',\n",
       "  'ask': '5.4815',\n",
       "  'timestamp': '1683641883',\n",
       "  'create_date': '2023-05-09 11:18:03'},\n",
       " 'BTCBRL': {'code': 'BTC',\n",
       "  'codein': 'BRL',\n",
       "  'name': 'Bitcoin/Real Brasileiro',\n",
       "  'high': '140441',\n",
       "  'low': '137604',\n",
       "  'varBid': '-1222',\n",
       "  'pctChange': '-0.88',\n",
       "  'bid': '138407',\n",
       "  'ask': '138407',\n",
       "  'timestamp': '1683641796',\n",
       "  'create_date': '2023-05-09 11:16:36'}}"
      ]
     },
     "execution_count": 13,
     "metadata": {},
     "output_type": "execute_result"
    }
   ],
   "source": [
    "cotacoes"
   ]
  },
  {
   "cell_type": "code",
   "execution_count": 14,
   "metadata": {},
   "outputs": [
    {
     "data": {
      "text/plain": [
       "{'code': 'USD',\n",
       " 'codein': 'BRL',\n",
       " 'name': 'Dólar Americano/Real Brasileiro',\n",
       " 'high': '5.0368',\n",
       " 'low': '4.9923',\n",
       " 'varBid': '-0.0095',\n",
       " 'pctChange': '-0.19',\n",
       " 'bid': '5',\n",
       " 'ask': '5.0005',\n",
       " 'timestamp': '1683641883',\n",
       " 'create_date': '2023-05-09 11:18:03'}"
      ]
     },
     "execution_count": 14,
     "metadata": {},
     "output_type": "execute_result"
    }
   ],
   "source": [
    "cotacao_dolar = cotacoes['USDBRL']\n",
    "cotacao_dolar"
   ]
  },
  {
   "cell_type": "code",
   "execution_count": 15,
   "metadata": {},
   "outputs": [
    {
     "data": {
      "text/plain": [
       "'5'"
      ]
     },
     "execution_count": 15,
     "metadata": {},
     "output_type": "execute_result"
    }
   ],
   "source": [
    "cotacao_dolar = cotacoes['USDBRL'][\"bid\"]\n",
    "cotacao_dolar"
   ]
  },
  {
   "cell_type": "code",
   "execution_count": null,
   "metadata": {},
   "outputs": [],
   "source": []
  }
 ],
 "metadata": {
  "kernelspec": {
   "display_name": "Python 3",
   "language": "python",
   "name": "python3"
  },
  "language_info": {
   "codemirror_mode": {
    "name": "ipython",
    "version": 3
   },
   "file_extension": ".py",
   "mimetype": "text/x-python",
   "name": "python",
   "nbconvert_exporter": "python",
   "pygments_lexer": "ipython3",
   "version": "3.8.3"
  }
 },
 "nbformat": 4,
 "nbformat_minor": 4
}
