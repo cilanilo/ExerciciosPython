{
 "cells": [
  {
   "cell_type": "code",
   "execution_count": 2,
   "metadata": {},
   "outputs": [
    {
     "data": {
      "text/plain": [
       "True"
      ]
     },
     "execution_count": 2,
     "metadata": {},
     "output_type": "execute_result"
    }
   ],
   "source": [
    "def palindrome(palavra):\n",
    "    i = len(palavra)-1\n",
    "    x = 0\n",
    "    while i >= 0:\n",
    "        #print('primeira letra', palavra[x], palavra[i], x, i)\n",
    "        \n",
    "        if palavra[x] != palavra[i]:\n",
    "            print(\"caiu\")\n",
    "            return False\n",
    "        \n",
    "        i = i - 1 \n",
    "        x = x + 1\n",
    "    \n",
    "    return True\n",
    "\n",
    "\n",
    "palindrome(\"ovo\") # True\n",
    "#palindrome(\"priscila\") # False\n",
    "    "
   ]
  },
  {
   "cell_type": "code",
   "execution_count": null,
   "metadata": {},
   "outputs": [],
   "source": []
  }
 ],
 "metadata": {
  "kernelspec": {
   "display_name": "Python 3",
   "language": "python",
   "name": "python3"
  },
  "language_info": {
   "codemirror_mode": {
    "name": "ipython",
    "version": 3
   },
   "file_extension": ".py",
   "mimetype": "text/x-python",
   "name": "python",
   "nbconvert_exporter": "python",
   "pygments_lexer": "ipython3",
   "version": "3.8.3"
  }
 },
 "nbformat": 4,
 "nbformat_minor": 4
}
