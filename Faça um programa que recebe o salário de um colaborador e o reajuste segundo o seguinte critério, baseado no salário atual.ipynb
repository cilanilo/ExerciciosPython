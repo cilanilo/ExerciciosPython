{
 "cells": [
  {
   "cell_type": "code",
   "execution_count": 1,
   "metadata": {},
   "outputs": [],
   "source": [
    "#As Organizações Tabajara resolveram dar um aumento de salário aos seus colaboradores e lhe contraram para desenvolver o programa que calculará os reajustes.\n",
    "#Faça um programa que recebe o salário de um colaborador e o reajuste segundo o seguinte critério, baseado no salário atual:\n",
    "\n",
    "#salários até R$ 280,00 (incluindo) : aumento de 20%\n",
    "#salários entre R$ 280,00 e R$ 700,00 : aumento de 15%\n",
    "#salários entre R$ 700,00 e R$ 1500,00 : aumento de 10%\n",
    "#salários de R$ 1500,00 em diante : aumento de 5% Após o aumento ser realizado, informe na tela:\n",
    "#o salário antes do reajuste;\n",
    "#o percentual de aumento aplicado;\n",
    "#o valor do aumento;\n",
    "#o novo salário, após o aumento."
   ]
  },
  {
   "cell_type": "code",
   "execution_count": 2,
   "metadata": {},
   "outputs": [
    {
     "name": "stdout",
     "output_type": "stream",
     "text": [
      "Digite seu salário antes do reajuste: 1200\n",
      "O percentual de aumento aplicado foi de 10%\n",
      "O valor do aumento é:  120.0\n",
      "Novo salário:  1320.0\n"
     ]
    }
   ],
   "source": [
    "salario = float(input('Digite seu salário antes do reajuste: '))\n",
    "\n",
    "aumento1 = salario*0.2\n",
    "aumento2 = salario*0.15\n",
    "aumento3 = salario*0.1\n",
    "aumento4 = salario*0.05\n",
    "\n",
    "a = (salario*0.2) + salario\n",
    "b = (salario*0.15) + salario\n",
    "c = (salario*0.1) + salario\n",
    "d = (salario*0.05) + salario\n",
    "\n",
    "\n",
    "if salario <= 280:\n",
    "    print('O percentual de aumento aplicado foi de 20%')\n",
    "    print('O valor do aumento é: ', aumento1)\n",
    "    print(\"Novo salário: \", a)\n",
    "    \n",
    "elif 280 <= salario and salario <= 700:\n",
    "    print('O percentual de aumento aplicado foi de 15%')\n",
    "    print('O valor do aumento é: ', aumento2)\n",
    "    print(\"Novo salário: \", b)\n",
    "    \n",
    "elif 700 <= salario and salario <= 1500:\n",
    "    print('O percentual de aumento aplicado foi de 10%')\n",
    "    print('O valor do aumento é: ', aumento3)\n",
    "    print(\"Novo salário: \", c)\n",
    "    \n",
    "elif salario >= 1500:\n",
    "    print('O percentual de aumento aplicado foi de 5%')\n",
    "    print('O valor do aumento é: ', aumento4)\n",
    "    print(\"Novo salário: \", d)"
   ]
  },
  {
   "cell_type": "code",
   "execution_count": null,
   "metadata": {},
   "outputs": [],
   "source": []
  }
 ],
 "metadata": {
  "kernelspec": {
   "display_name": "Python 3",
   "language": "python",
   "name": "python3"
  },
  "language_info": {
   "codemirror_mode": {
    "name": "ipython",
    "version": 3
   },
   "file_extension": ".py",
   "mimetype": "text/x-python",
   "name": "python",
   "nbconvert_exporter": "python",
   "pygments_lexer": "ipython3",
   "version": "3.8.3"
  }
 },
 "nbformat": 4,
 "nbformat_minor": 4
}
