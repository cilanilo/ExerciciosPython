{
 "cells": [
  {
   "cell_type": "code",
   "execution_count": 1,
   "metadata": {},
   "outputs": [
    {
     "name": "stdout",
     "output_type": "stream",
     "text": [
      "Primeiro valor: 32\n",
      "Segundo valor: 12\n",
      "Terceiro valor: 25\n",
      "O menor valor digitado foi 12\n",
      "O maior valor digitado foi 32\n"
     ]
    }
   ],
   "source": [
    "a = int(input('Primeiro valor: '))\n",
    "b = int(input('Segundo valor: '))\n",
    "c = int(input('Terceiro valor: '))\n",
    "#verificando quem é menor\n",
    "menor = a\n",
    "if b<a and b<c:\n",
    "    menor = b\n",
    "if c<a and c<b:\n",
    "    menor = c\n",
    "#verificando quem é o maior\n",
    "maior = a\n",
    "if b>a and b>c:\n",
    "    maior = b\n",
    "if c>a and c>b:\n",
    "    maior = c  \n",
    "print('O menor valor digitado foi {}'.format(menor))\n",
    "print('O maior valor digitado foi {}'.format(maior))"
   ]
  },
  {
   "cell_type": "code",
   "execution_count": null,
   "metadata": {},
   "outputs": [],
   "source": []
  }
 ],
 "metadata": {
  "kernelspec": {
   "display_name": "Python 3",
   "language": "python",
   "name": "python3"
  },
  "language_info": {
   "codemirror_mode": {
    "name": "ipython",
    "version": 3
   },
   "file_extension": ".py",
   "mimetype": "text/x-python",
   "name": "python",
   "nbconvert_exporter": "python",
   "pygments_lexer": "ipython3",
   "version": "3.8.3"
  }
 },
 "nbformat": 4,
 "nbformat_minor": 4
}
