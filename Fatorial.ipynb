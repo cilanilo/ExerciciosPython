{
 "cells": [
  {
   "cell_type": "code",
   "execution_count": 12,
   "metadata": {},
   "outputs": [
    {
     "name": "stdout",
     "output_type": "stream",
     "text": [
      "antes do while\n",
      "fatorial = 1 * 3\n",
      "fatorial = 3 * 2\n",
      "fatorial = 6 * 1\n",
      "saiu do while, fatorial = 6\n"
     ]
    },
    {
     "data": {
      "text/plain": [
       "6"
      ]
     },
     "execution_count": 12,
     "metadata": {},
     "output_type": "execute_result"
    }
   ],
   "source": [
    "def fatorial(n):\n",
    "    if (n == 0):        \n",
    "        return 0    \n",
    "\n",
    "    fatorial = 1   \n",
    "    \n",
    "    print(\"antes do while\")\n",
    "    \n",
    "    while(n > 0):       \n",
    "        print(\"fatorial =\", fatorial, \"*\",n)\n",
    "        fatorial = fatorial * n\n",
    "        n = n - 1\n",
    "    \n",
    "    print(\"saiu do while, fatorial =\", fatorial)\n",
    "    \n",
    "    return fatorial\n",
    "\n",
    "fatorial(3)"
   ]
  }
 ],
 "metadata": {
  "kernelspec": {
   "display_name": "Python 3",
   "language": "python",
   "name": "python3"
  },
  "language_info": {
   "codemirror_mode": {
    "name": "ipython",
    "version": 3
   },
   "file_extension": ".py",
   "mimetype": "text/x-python",
   "name": "python",
   "nbconvert_exporter": "python",
   "pygments_lexer": "ipython3",
   "version": "3.8.3"
  }
 },
 "nbformat": 4,
 "nbformat_minor": 4
}
